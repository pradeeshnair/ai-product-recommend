{
 "cells": [
  {
   "cell_type": "code",
   "execution_count": 1,
   "metadata": {},
   "outputs": [],
   "source": [
    "import pandas as pd\n",
    "import matplotlib.pyplot as plot\n",
    "import numpy as np\n",
    "from sklearn.model_selection import train_test_split\n",
    "from imblearn.over_sampling import SMOTE\n",
    "from sklearn.ensemble import RandomForestClassifier\n",
    "\n",
    "#Import data set\n",
    "df = pd.read_excel('dataset.xls') \n",
    "#Combine Country of residence and country of destination to form a relationship\n",
    "df['COUNTRY_REL'] = df['COUNTRY_RES']+ '_'+df['COUNTRY_DES']\n",
    "\n",
    "# We will create the following bins: AGE_GROUP, HEIGHT, WEIGHT\n",
    "\n",
    "#AGE_GROUP\n",
    "bins_age_group = [10,20,30,40,60,70,80]\n",
    "bin_labels_age_group = ['<20','20-29', '30-39', '40-59', '60-79', '>80']\n",
    "df['AGE_GROUP'] = pd.cut(df.AGE, bins_age_group, right=False, labels = bin_labels_age_group)\n",
    "\n",
    "#HEIGHT\n",
    "bins_height = [150,160,170,180,190,200]\n",
    "bin_labels_height = ['<160','160-169', '170-179', '180-189', '>190']\n",
    "df['HEIGHT_GROUP'] = pd.cut(df.HEIGHT, bins_height, right=False, labels = bin_labels_height)\n",
    "\n",
    "#WEIGHT\n",
    "bins_weight = [40,50,60,70,80,90]\n",
    "bin_labels_weight = ['<50','50-59','60-69', '70-79', '>80']\n",
    "df['WEIGHT_GROUP'] = pd.cut(df.WEIGHT, bins_weight, right=False, labels = bin_labels_weight)\n",
    "\n",
    "#One hot encoding for GENDER\n",
    "one_hot_gender = pd.get_dummies(df.GENDER, prefix='GENDER')\n",
    "df = df.join(one_hot_gender)\n",
    "#One hot encoding for SMOKE_STATUS\n",
    "one_hot_smoke = pd.get_dummies(df.SMOKE_STATUS, prefix='SMOKE_STATUS')\n",
    "df = df.join(one_hot_smoke)\n",
    "#One hot encoding for AGE_GROUP\n",
    "one_hot_age_group = pd.get_dummies(df.AGE_GROUP, prefix='AGE_GROUP')\n",
    "df = df.join(one_hot_age_group)\n",
    "#One hot encoding for HEIGHT_GROUP\n",
    "one_hot_height_group = pd.get_dummies(df.HEIGHT_GROUP, prefix='HEIGHT_GROUP')\n",
    "df = df.join(one_hot_height_group)\n",
    "#One hot encoding for WEIGHT_GROUP\n",
    "one_hot_weight_group = pd.get_dummies(df.WEIGHT_GROUP, prefix='WEIGHT_GROUP')\n",
    "df = df.join(one_hot_weight_group)\n",
    "#One hot encoding for COUNTRY_REL\n",
    "one_hot_country_rel = pd.get_dummies(df.COUNTRY_REL, prefix='COUNTRY_REL')\n",
    "df = df.join(one_hot_country_rel)\n",
    "\n",
    "df = df.drop('USER_ID',axis = 1)\n",
    "df = df.drop('COUNTRY_REL',axis = 1)\n",
    "df = df.drop('WEIGHT_GROUP',axis = 1)\n",
    "df = df.drop('HEIGHT_GROUP',axis = 1)\n",
    "df = df.drop('AGE_GROUP',axis = 1)\n",
    "df = df.drop('SMOKE_STATUS',axis = 1)\n",
    "df = df.drop('GENDER',axis = 1)\n",
    "df = df.drop('AGE',axis = 1)\n",
    "df = df.drop('HEIGHT',axis = 1)\n",
    "df = df.drop('WEIGHT',axis = 1)\n",
    "df = df.drop('COUNTRY_RES',axis = 1)\n",
    "df = df.drop('COUNTRY_DES',axis = 1)\n",
    "#Rename item_id to target\n",
    "df.rename(columns={'ITEM_ID':'TARGET'},inplace=True)\n",
    "\n",
    "#Splitting X and Y\n",
    "X = df.drop(\"TARGET\", axis=1)\n",
    "y = df[\"TARGET\"]\n",
    "\n",
    "X_train, X_test, y_train, y_test = train_test_split(X,y,train_size=0.8, random_state=42)\n",
    "\n",
    "#SMOTE\n",
    "sm = SMOTE(random_state = 33)\n",
    "X_train_new, y_train_new = sm.fit_sample(X_train, y_train.ravel())\n",
    "\n",
    "#Create model and train\n",
    "model = RandomForestClassifier()\n",
    "clf = model.fit(X_train_new, y_train_new)"
   ]
  },
  {
   "cell_type": "code",
   "execution_count": 4,
   "metadata": {},
   "outputs": [
    {
     "data": {
      "text/plain": [
       "['model_columns.pkl']"
      ]
     },
     "execution_count": 4,
     "metadata": {},
     "output_type": "execute_result"
    }
   ],
   "source": [
    "import joblib\n",
    "joblib.dump(model, 'model.pkl')\n",
    "model_columns = list(X.columns)\n",
    "joblib.dump(model_columns, 'model_columns.pkl')"
   ]
  },
  {
   "cell_type": "code",
   "execution_count": null,
   "metadata": {},
   "outputs": [],
   "source": []
  },
  {
   "cell_type": "code",
   "execution_count": null,
   "metadata": {},
   "outputs": [],
   "source": []
  }
 ],
 "metadata": {
  "kernelspec": {
   "display_name": "Python 3",
   "language": "python",
   "name": "python3"
  },
  "language_info": {
   "codemirror_mode": {
    "name": "ipython",
    "version": 3
   },
   "file_extension": ".py",
   "mimetype": "text/x-python",
   "name": "python",
   "nbconvert_exporter": "python",
   "pygments_lexer": "ipython3",
   "version": "3.7.6"
  }
 },
 "nbformat": 4,
 "nbformat_minor": 4
}
